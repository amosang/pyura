{
 "cells": [
  {
   "cell_type": "markdown",
   "metadata": {
    "collapsed": true
   },
   "source": [
    "# URA Client\n",
    "\n",
    "Initialize client with your given URA access key."
   ]
  },
  {
   "cell_type": "code",
   "execution_count": 1,
   "metadata": {
    "scrolled": true
   },
   "outputs": [],
   "source": [
    "from pyura import Client\n",
    " \n",
    "URA_ACCESS_KEY = ''\n",
    "client = Client(URA_ACCESS_KEY)"
   ]
  },
  {
   "cell_type": "markdown",
   "metadata": {},
   "source": [
    "# Authentication\n",
    "\n",
    "This will configure the client with a token to be used for the day’s access to the API. For more details,  https://www.ura.gov.sg/maps/api/#authentication. "
   ]
  },
  {
   "cell_type": "code",
   "execution_count": 2,
   "metadata": {
    "scrolled": true
   },
   "outputs": [],
   "source": [
    "client.get_token()"
   ]
  },
  {
   "cell_type": "markdown",
   "metadata": {},
   "source": [
    "# Carpark"
   ]
  },
  {
   "cell_type": "markdown",
   "metadata": {},
   "source": [
    "## Car Park Available Lots\n",
    "This will return the list of URA car park available lots. For more details, https://www.ura.gov.sg/maps/api/#car-park-available-lots."
   ]
  },
  {
   "cell_type": "code",
   "execution_count": 3,
   "metadata": {},
   "outputs": [
    {
     "data": {
      "text/plain": [
       "{'carparkNo': 'S0049', 'lotsAvailable': '111', 'lotType': 'C'}"
      ]
     },
     "execution_count": 3,
     "metadata": {},
     "output_type": "execute_result"
    }
   ],
   "source": [
    "client.carpark_availability()[0]"
   ]
  },
  {
   "cell_type": "markdown",
   "metadata": {},
   "source": [
    "## Car Park List and Rates\n",
    "This will return the list of URA car park details and rates. For more details, https://www.ura.gov.sg/maps/api/#car-park-list-and-rates."
   ]
  },
  {
   "cell_type": "code",
   "execution_count": 4,
   "metadata": {
    "scrolled": true
   },
   "outputs": [
    {
     "data": {
      "text/plain": [
       "{'weekdayMin': '30 mins',\n",
       " 'weekdayRate': '$0.60',\n",
       " 'ppCode': 'A0004',\n",
       " 'parkingSystem': 'C',\n",
       " 'ppName': 'ALIWAL STREET ',\n",
       " 'vehCat': 'Car',\n",
       " 'satdayMin': '30 mins',\n",
       " 'satdayRate': '$0.60',\n",
       " 'sunPHMin': '30 mins',\n",
       " 'sunPHRate': '$0.60',\n",
       " 'geometries': [{'coordinates': '31045.6165,31694.0055'},\n",
       "  {'coordinates': '31126.0755,31564.9876'}],\n",
       " 'startTime': '08.30 AM',\n",
       " 'parkCapacity': 69,\n",
       " 'endTime': '10.00 PM'}"
      ]
     },
     "execution_count": 4,
     "metadata": {},
     "output_type": "execute_result"
    }
   ],
   "source": [
    "client.carpark_details()[0]"
   ]
  },
  {
   "cell_type": "markdown",
   "metadata": {},
   "source": [
    "## Car Park List and Rates\n",
    "This will return the list of URA season car park details and rates. For more details, https://www.ura.gov.sg/maps/api/#season-car-park-list-and-rates."
   ]
  },
  {
   "cell_type": "code",
   "execution_count": 5,
   "metadata": {
    "scrolled": true
   },
   "outputs": [
    {
     "data": {
      "text/plain": [
       "{'ppCode': 'GA002',\n",
       " 'ppName': 'ADAM ROAD FOOD CENTRE AREA',\n",
       " 'vehCat': 'Car',\n",
       " 'monthlyRate': '90',\n",
       " 'geometries': [{'coordinates': '25865.2153,34012.0026'}],\n",
       " 'parkingHrs': 'Everyday;7am to 7am (24 hrs)',\n",
       " 'ticketType': 'Commercial'}"
      ]
     },
     "execution_count": 5,
     "metadata": {},
     "output_type": "execute_result"
    }
   ],
   "source": [
    "client.season_carpark_details()[0]"
   ]
  },
  {
   "cell_type": "markdown",
   "metadata": {},
   "source": [
    "# Private Residential Property"
   ]
  },
  {
   "cell_type": "markdown",
   "metadata": {},
   "source": [
    "## Private Residential Property Transactions\n",
    "\n",
    "This data service will return past 3 years of private residential property transaction records. \n",
    "\n",
    "\n",
    "### HTTP Request URL Parameters\n",
    "\n",
    "| Parameter | Mandatory | Data Type | Description                                                  |\n",
    "| :-------- | :-------- | --------- | :----------------------------------------------------------- |\n",
    "| Batch     | Yes       | int       | Data are available for download in 4 batches.1234They are split by postal districts e.g. batch 1 is for postal district 01 to 07, batch 2 is for postal district 08 to 14 etc. To download for batch 1, pass in the value 1. |\n",
    "\n",
    "\n",
    "For more details, https://www.ura.gov.sg/maps/api/#private-residential-property."
   ]
  },
  {
   "cell_type": "code",
   "execution_count": 6,
   "metadata": {},
   "outputs": [
    {
     "data": {
      "text/plain": [
       "{'street': 'ZEHNDER ROAD',\n",
       " 'x': '22726.561998910002',\n",
       " 'project': 'LANDED HOUSING DEVELOPMENT',\n",
       " 'y': '29491.915575680001',\n",
       " 'transaction': [{'area': '314',\n",
       "   'floorRange': '-',\n",
       "   'noOfUnits': '1',\n",
       "   'contractDate': '0618',\n",
       "   'typeOfSale': '3',\n",
       "   'price': '4750000',\n",
       "   'propertyType': 'Semi-detached',\n",
       "   'district': '05',\n",
       "   'typeOfArea': 'Land',\n",
       "   'tenure': 'Freehold'},\n",
       "  {'area': '308',\n",
       "   'floorRange': '-',\n",
       "   'noOfUnits': '1',\n",
       "   'contractDate': '0918',\n",
       "   'typeOfSale': '3',\n",
       "   'price': '5000000',\n",
       "   'propertyType': 'Semi-detached',\n",
       "   'district': '05',\n",
       "   'typeOfArea': 'Land',\n",
       "   'tenure': 'Freehold'}],\n",
       " 'marketSegment': 'RCR'}"
      ]
     },
     "execution_count": 6,
     "metadata": {},
     "output_type": "execute_result"
    }
   ],
   "source": [
    "client.private_resi_transaction(1)[0]"
   ]
  },
  {
   "cell_type": "markdown",
   "metadata": {},
   "source": [
    "## Private Residential Property Transactions\n",
    "\n",
    "This data service will return past 3 years of median rentals of private non-landed residential properties with at least 10 rental contracts for the reference period. For more details, https://www.ura.gov.sg/maps/api/#private-non-landed-residential-properties-median-rentals-by-name."
   ]
  },
  {
   "cell_type": "code",
   "execution_count": 7,
   "metadata": {},
   "outputs": [
    {
     "data": {
      "text/plain": [
       "{'rentalMedian': [{'refPeriod': '2015Q2',\n",
       "   'psf75': 2.3,\n",
       "   'median': 2.17,\n",
       "   'psf25': 1.93,\n",
       "   'district': '23'},\n",
       "  {'refPeriod': '2017Q4',\n",
       "   'psf75': 2.23,\n",
       "   'median': 1.9,\n",
       "   'psf25': 1.86,\n",
       "   'district': '23'},\n",
       "  {'refPeriod': '2016Q2',\n",
       "   'psf75': 2.12,\n",
       "   'median': 2.03,\n",
       "   'psf25': 1.86,\n",
       "   'district': '23'},\n",
       "  {'refPeriod': '2015Q4',\n",
       "   'psf75': 2.23,\n",
       "   'median': 1.93,\n",
       "   'psf25': 1.86,\n",
       "   'district': '23'}],\n",
       " 'street': 'HILLVIEW AVENUE',\n",
       " 'x': '19821.989334660001',\n",
       " 'project': 'MERAWOODS',\n",
       " 'y': '37573.471111829997'}"
      ]
     },
     "execution_count": 7,
     "metadata": {},
     "output_type": "execute_result"
    }
   ],
   "source": [
    "client.private_nl_resi_rental_median()[0]"
   ]
  },
  {
   "cell_type": "markdown",
   "metadata": {},
   "source": [
    "## Private Residential Properties Rental Contract\n",
    "\n",
    "This data service will return past 3 years of private residential properties with rental contracts submitted to IRAS for Stamp Duty assessment.\n",
    "\n",
    "### HTTP Request URL Parameters\n",
    "\n",
    "| Parameter | Mandatory | Data Type | Description                                                  |\n",
    "| :-------- | :-------- | --------- | :----------------------------------------------------------- |\n",
    "| ref_period | Yes       | str       | Data are available for download by reference quarter. Field is in format of yyqq e.g. 14q1 represents 2014 1st quarter. |\n",
    "\n",
    "For more details, https://www.ura.gov.sg/maps/api/#private-residential-properties-rental-contract."
   ]
  },
  {
   "cell_type": "code",
   "execution_count": 8,
   "metadata": {},
   "outputs": [
    {
     "data": {
      "text/plain": [
       "{'street': 'HILLVIEW AVENUE',\n",
       " 'x': '19821.989334660001',\n",
       " 'project': 'MERAWOODS',\n",
       " 'y': '37573.471111829997',\n",
       " 'rental': [{'areaSqm': '120-130',\n",
       "   'leaseDate': '1016',\n",
       "   'propertyType': 'Non-landed Properties',\n",
       "   'district': '23',\n",
       "   'areaSqft': '1300-1400',\n",
       "   'noOfBedRoom': '3',\n",
       "   'rent': 3200},\n",
       "  {'areaSqm': '90-100',\n",
       "   'leaseDate': '1016',\n",
       "   'propertyType': 'Non-landed Properties',\n",
       "   'district': '23',\n",
       "   'areaSqft': '1000-1100',\n",
       "   'noOfBedRoom': '2',\n",
       "   'rent': 2100},\n",
       "  {'areaSqm': '170-180',\n",
       "   'leaseDate': '1016',\n",
       "   'propertyType': 'Non-landed Properties',\n",
       "   'district': '23',\n",
       "   'areaSqft': '1900-2000',\n",
       "   'noOfBedRoom': '4',\n",
       "   'rent': 3500},\n",
       "  {'areaSqm': '120-130',\n",
       "   'leaseDate': '1116',\n",
       "   'propertyType': 'Non-landed Properties',\n",
       "   'district': '23',\n",
       "   'areaSqft': '1300-1400',\n",
       "   'noOfBedRoom': '3',\n",
       "   'rent': 2300},\n",
       "  {'areaSqm': '90-100',\n",
       "   'leaseDate': '1216',\n",
       "   'propertyType': 'Non-landed Properties',\n",
       "   'district': '23',\n",
       "   'areaSqft': '1000-1100',\n",
       "   'noOfBedRoom': '2',\n",
       "   'rent': 2400},\n",
       "  {'areaSqm': '120-130',\n",
       "   'leaseDate': '1216',\n",
       "   'propertyType': 'Non-landed Properties',\n",
       "   'district': '23',\n",
       "   'areaSqft': '1300-1400',\n",
       "   'noOfBedRoom': '3',\n",
       "   'rent': 2500},\n",
       "  {'areaSqm': '90-100',\n",
       "   'leaseDate': '1216',\n",
       "   'propertyType': 'Non-landed Properties',\n",
       "   'district': '23',\n",
       "   'areaSqft': '1000-1100',\n",
       "   'noOfBedRoom': '2',\n",
       "   'rent': 2050},\n",
       "  {'areaSqm': '120-130',\n",
       "   'leaseDate': '1216',\n",
       "   'propertyType': 'Non-landed Properties',\n",
       "   'district': '23',\n",
       "   'areaSqft': '1300-1400',\n",
       "   'noOfBedRoom': '3',\n",
       "   'rent': 2500},\n",
       "  {'areaSqm': '90-100',\n",
       "   'leaseDate': '1216',\n",
       "   'propertyType': 'Non-landed Properties',\n",
       "   'district': '23',\n",
       "   'areaSqft': '1000-1100',\n",
       "   'noOfBedRoom': '2',\n",
       "   'rent': 2300},\n",
       "  {'areaSqm': '120-130',\n",
       "   'leaseDate': '1116',\n",
       "   'propertyType': 'Non-landed Properties',\n",
       "   'district': '23',\n",
       "   'areaSqft': '1300-1400',\n",
       "   'noOfBedRoom': '3',\n",
       "   'rent': 2500},\n",
       "  {'areaSqm': '130-140',\n",
       "   'leaseDate': '1116',\n",
       "   'propertyType': 'Non-landed Properties',\n",
       "   'district': '23',\n",
       "   'areaSqft': '1400-1500',\n",
       "   'noOfBedRoom': '3',\n",
       "   'rent': 2600},\n",
       "  {'areaSqm': '120-130',\n",
       "   'leaseDate': '1216',\n",
       "   'propertyType': 'Non-landed Properties',\n",
       "   'district': '23',\n",
       "   'areaSqft': '1300-1400',\n",
       "   'noOfBedRoom': '3',\n",
       "   'rent': 2500},\n",
       "  {'areaSqm': '90-100',\n",
       "   'leaseDate': '1216',\n",
       "   'propertyType': 'Non-landed Properties',\n",
       "   'district': '23',\n",
       "   'areaSqft': '1000-1100',\n",
       "   'noOfBedRoom': '2',\n",
       "   'rent': 2150},\n",
       "  {'areaSqm': '120-130',\n",
       "   'leaseDate': '1116',\n",
       "   'propertyType': 'Non-landed Properties',\n",
       "   'district': '23',\n",
       "   'areaSqft': '1300-1400',\n",
       "   'noOfBedRoom': '3',\n",
       "   'rent': 2300},\n",
       "  {'areaSqm': '120-130',\n",
       "   'leaseDate': '1116',\n",
       "   'propertyType': 'Non-landed Properties',\n",
       "   'district': '23',\n",
       "   'areaSqft': '1300-1400',\n",
       "   'noOfBedRoom': '3',\n",
       "   'rent': 2700}]}"
      ]
     },
     "execution_count": 8,
     "metadata": {},
     "output_type": "execute_result"
    }
   ],
   "source": [
    "ref_period = '16q4'\n",
    "client.private_resi_rental_contract(ref_period)[0]"
   ]
  },
  {
   "cell_type": "markdown",
   "metadata": {},
   "source": [
    "## Private Residential Property Units Sold by Developers\n",
    "\n",
    "This data service will return past 3 years of prices of completed and uncompleted private residential units and executive condominiums with pre-requisite for sale sold by developers.\n",
    "\n",
    "### HTTP Request URL Parameters\n",
    "\n",
    "| Parameter | Mandatory | Data Type | Description                                                  |\n",
    "| :-------- | :-------- | --------- | :----------------------------------------------------------- |\n",
    "| refPeriod | Yes       | str       | Data are available for download by reference quarter. Field is in format of mmyy e.g. 0913 represents Sep 2013. |\n",
    "\n",
    "For more details, https://www.ura.gov.sg/maps/api/#private-residential-property-units-sold-by-developers."
   ]
  },
  {
   "cell_type": "code",
   "execution_count": 9,
   "metadata": {},
   "outputs": [
    {
     "data": {
      "text/plain": [
       "{'street': 'SILAT AVENUE',\n",
       " 'district': '03',\n",
       " 'propertyType': 'Non-Landed',\n",
       " 'project': 'AVENUE SOUTH RESIDENCE',\n",
       " 'developer': 'United Venture Development (Silat) Pte Ltd',\n",
       " 'developerSales': [{'refPeriod': '0919',\n",
       "   'medianPrice': 1941,\n",
       "   'highestPrice': 2603,\n",
       "   'lowestPrice': 1696,\n",
       "   'launchedToDate': 500,\n",
       "   'soldInMonth': 361,\n",
       "   'launchedInMonth': 500,\n",
       "   'soldToDate': 361,\n",
       "   'unitsAvail': 1074}],\n",
       " 'marketSegment': 'RCR'}"
      ]
     },
     "execution_count": 9,
     "metadata": {},
     "output_type": "execute_result"
    }
   ],
   "source": [
    "ref_period = '0919'\n",
    "client.private_resi_developer_sales(ref_period)[0]\n"
   ]
  },
  {
   "cell_type": "markdown",
   "metadata": {},
   "source": [
    "## Private Residential Projects in the Pipeline\n",
    "\n",
    "This data service will return the latest quarter of project pipeline data. For more details, https://www.ura.gov.sg/maps/api/#private-residential-projects-in-the-pipeline."
   ]
  },
  {
   "cell_type": "code",
   "execution_count": 10,
   "metadata": {},
   "outputs": [
    {
     "data": {
      "text/plain": [
       "{'noOfApartment': 0,\n",
       " 'expectedTOPYear': 'na',\n",
       " 'noOfSemiDetached': 2,\n",
       " 'street': 'ANG MO KIO AVENUE 5/SELETAR ROAD/YIO CHU KANG ROAD',\n",
       " 'district': '28',\n",
       " 'project': 'LUXUS HILLS',\n",
       " 'noOfDetachedHouse': 1,\n",
       " 'noOfTerrace': 36,\n",
       " 'noOfCondo': 0,\n",
       " 'developerName': 'Singapore United Estates Pte Ltd',\n",
       " 'totalUnits': 39}"
      ]
     },
     "execution_count": 10,
     "metadata": {},
     "output_type": "execute_result"
    }
   ],
   "source": [
    "client.private_resi_pipeline()[0]"
   ]
  },
  {
   "cell_type": "markdown",
   "metadata": {},
   "source": [
    "# Planning Decisions\n",
    "This data service will provide the information on Written Permission granted or rejected by URA. The request can be requested by the year or by the last downloaded date.\n",
    "\n",
    "### HTTP Request URL Parameters\n",
    "\n",
    "The service accepts either one but not both of the below parameters.\n",
    "\n",
    "| Parameter        | Mandatory | Data Type | Description                                                  |\n",
    "| :--------------- | :-------- | --------- | :----------------------------------------------------------- |\n",
    "| year             | Yes       | int       | Data are available for download by year. Only records after year 2000 can be retrieved. |\n",
    "| last_dnload_date | Yes       | str       | Data created, modified or deleted from this date till present. Date is in dd/mm/yyyy format and it cannot be more than one year ago. |\n",
    "\n",
    "\n",
    "For more information, https://www.ura.gov.sg/maps/api/#planning-decisions-2 ."
   ]
  },
  {
   "cell_type": "code",
   "execution_count": 11,
   "metadata": {},
   "outputs": [
    {
     "data": {
      "text/plain": [
       "{'decision_date': '01/01/2000',\n",
       " 'address': 'ORCHARD ROAD',\n",
       " 'submission_desc': 'PROPOSED OUTDOOR REFRESHMENT AREA FOR UNIT #01-02',\n",
       " 'decision_type': 'Written Permission',\n",
       " 'appl_type': 'Addition/Alteration to Buildings (Others)',\n",
       " 'mkts_lotno': 'TS21 551, TS21 554PT, TS21 787, TS21 788, TS21 789PT, TS21 790',\n",
       " 'dr_id': '55888b',\n",
       " 'submission_no': '071098-27Z3-Z000',\n",
       " 'decision_no': 'P071098-27Z3-Z000'}"
      ]
     },
     "execution_count": 11,
     "metadata": {},
     "output_type": "execute_result"
    }
   ],
   "source": [
    "client.planning_decisions(year=2000)[0]"
   ]
  },
  {
   "cell_type": "code",
   "execution_count": 12,
   "metadata": {},
   "outputs": [
    {
     "data": {
      "text/plain": [
       "{'decision_date': '21/09/1996',\n",
       " 'address': '6 CHANGI SOUTH STREET 1',\n",
       " 'submission_desc': 'PROP A/A TO THE EXTG 2 -STY TERRACE FACTORY',\n",
       " 'decision_type': 'Written Permission',\n",
       " 'appl_type': 'Addition/Alteration to Buildings (Others)',\n",
       " 'deleted_ind': 'No',\n",
       " 'mkts_lotno': 'MK27 179 -37 PT SL, 179 -44 PT (SL)',\n",
       " 'dr_id': '27794',\n",
       " 'submission_no': '050696-42A1-Z000',\n",
       " 'decision_no': 'P050696-42A1'}"
      ]
     },
     "execution_count": 12,
     "metadata": {},
     "output_type": "execute_result"
    }
   ],
   "source": [
    "client.planning_decisions(last_dnload_date='01/03/2019')[0]"
   ]
  },
  {
   "cell_type": "markdown",
   "metadata": {},
   "source": [
    "# Approved Use\n",
    "\n",
    "This data service will provide the information on whether an address is approved for Residential use.\n",
    "\n",
    "### HTTP Request URL Parameters\n",
    "\n",
    "| Parameter    | Mandatory | Data Type | Description                         |\n",
    "| :----------- | :-------- | --------- | :---------------------------------- |\n",
    "| blk_house_no | Yes       | str       | The blk/house number of the address |\n",
    "| street       | Yes       | str       | The street of the address           |\n",
    "| storey_no    | No        | str       | The storey number of the address.   |\n",
    "| unit_no      | No        | str       | The unit number of the address.     |\n",
    "\n",
    "\n",
    "For more information, https://www.ura.gov.sg/maps/api/#approved-use."
   ]
  },
  {
   "cell_type": "code",
   "execution_count": 13,
   "metadata": {},
   "outputs": [
    {
     "data": {
      "text/plain": [
       "'N'"
      ]
     },
     "execution_count": 13,
     "metadata": {},
     "output_type": "execute_result"
    }
   ],
   "source": [
    "blk_house_no = '197'\n",
    "street = 'Rivervale Drive'\n",
    "storey_no = '17'\n",
    "unit_no = '196'\n",
    "\n",
    "client.approved_resi_use(blk_house_no, street, storey_no, unit_no)[0]"
   ]
  }
 ],
 "metadata": {
  "kernelspec": {
   "display_name": "Python 3",
   "language": "python",
   "name": "python3"
  },
  "language_info": {
   "codemirror_mode": {
    "name": "ipython",
    "version": 3
   },
   "file_extension": ".py",
   "mimetype": "text/x-python",
   "name": "python",
   "nbconvert_exporter": "python",
   "pygments_lexer": "ipython3",
   "version": "3.7.5rc1"
  },
  "pycharm": {
   "stem_cell": {
    "cell_type": "raw",
    "source": [],
    "metadata": {
     "collapsed": false
    }
   }
  }
 },
 "nbformat": 4,
 "nbformat_minor": 1
}